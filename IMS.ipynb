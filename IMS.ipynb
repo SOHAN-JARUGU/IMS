import json
from datetime import datetime
# jsd= json file data

#reading data from IMS.json to inventory

fd=open("IMS.json",'r')
jfd=fd.read()
fd.close()
inventory=json.loads(jfd)
sales={}

#reading data from SALES.json to sales

fd=open("SALES.json",'r')
jfd=fd.read()
fd.close()
sales=json.loads(jfd)
print(sales)
          
          
print("ITEMS AVALIABLE IN INVENTORY\n")
print(inventory)
print("*******************\n1) Updating inventory\n2) Adding/Changing data to inventory\n3) Purchasing items from inventory\n*******************\n")
choice=int(input("ENTER VALUE TO PROCEED : "))

#1 update
#2 adding
#3 purchase

#updating the existing inventory
if(choice==1):
    product_id=str(input("Enter Product ID : "))
    flag=0
    if(product_id in inventory.keys()):
        price=int(input("Enter updated price : "))
        quantity=int(input("Enter no.of items to update"))
        inventory[product_id]['Price']=price
        inventory[product_id]['Quantity']=int(inventory[product_id]['Quantity'])+quantity
        jfd=json.dumps(inventory)
        fd=open("IMS.json","w")
        fd.write(jfd)
        fd.close
    else:
        print("!!!!You have entered PRODUCT ID which was not in the inventory!!!!")
        print("*** PLEASE ENTER EXISTING PRODUCT ID FOR UPDATE ***")
        product_id=str(input("Enter Product ID : "))
        price=int(input("Enter updated price : "))
        quantity=int(input("Enter no.of items to update : "))
        inventory[product_id]['Price']=price
        inventory[product_id]['Quantity']=int(inventory[product_id]['Quantity'])+quantity
        jfd=json.dumps(inventory)
        fd=open("IMS.json","w")
        fd.write(jfd)
        fd.close
    print("*** UPDATED SUCCESSFULLY ***")
            
        
elif(choice==2):
    product_id=str(input("Enter Product ID to ADD : "))
    product_name=str(input("Enter Product Name :"))
    price=int(input("Enter Price of the Product : "))
    quantity=int(input("Enter Quantity of the Product : "))
    inventory[product_id]={'Product Name':product_name,'Price':price,'Quantity':quantity}
    jfd=json.dumps(inventory)
    fd=open("IMS.json","w")
    fd.write(jfd)
    fd.close
    print("*** ADDED SUCESSFULLY ***")
    
    
elif(choice==3):
    product_id=str(input("Enter Product ID from above list to purchase item : "))
    print("Name of the product : ",inventory[product_id]['Product Name'])
    print("Avaliable Quantity : ",inventory[product_id]['Quantity'])
    quantity=int(input("How much quantity do you want : "))
    if(int(inventory[product_id]['Quantity'])>=quantity):
        customer_name=str(input("Enter customer name : "))
        DateTime=datetime.now()
        date_time=DateTime.strftime("%d/%m/%Y %H:%M")
        print("\n********************\nBILL---------------------------------\n")
        print("CUSTOMER NAME--------",customer_name)
        print("PRODUCT ID-----------",product_id)
        print("PRODUCT NAME---------",inventory[product_id]['Product Name'])
        print("QUANTITY-------------",quantity)
        total=int(inventory[product_id]['Price'])*quantity
        print("TOTAL AMOUNT---------",total)
        print("DATE/TIME------------",date_time,"\n\n********************")
        print("\nTHANKS FOR PURCHASING , COME AGAIN :)")
        inventory[product_id]['Quantity']=int(inventory[product_id]['Quantity'])-quantity
        jfd=json.dumps(inventory)
        fd=open("IMS.json","w")
        fd.write(jfd)
        fd.close
    else:
        print("YOU HAVE ENTERED MORE QUANTITY THAN AVALIABLE, DO YOU WANT TO CONTUNIE TO PURCHASE")
        choose=str(input("Enter Y/N : "))
        if(choose=='y'or choose=='Y'):
            quantity=int(input("How much quantity do you want : "))
            customer_name=str(input("Enter customer name : "))
            DateTime=datetime.now()
            date_time=DateTime.strftime("%d/%m/%Y %H:%M")
            print("\n********************\nBILL---------------------------------\n")
            print("PRODUCT ID-----------",product_id)
            print("PRODUCT NAME---------",inventory[product_id]['Product Name'])
            print("QUANTITY-------------",quantity)
            total=int(inventory[product_id]['Price'])*quantity
            print("TOTAL AMOUNT---------",total)
            print("DATE/TIME------------",date_time,"\n\n********************")
            print("\nTHANKS FOR PURCHASING , COME AGAIN :)")
            inventory[product_id]['Quantity']=int(inventory[product_id]['Quantity'])-quantity
            jfd=json.dumps(inventory)
            fd=open("IMS.json","w")
            fd.write(jfd)
            fd.close
        elif(choose=='N' or choose=='n'):
            print("THANKS FOR COMING WE WILL SATIFY YOUR NEED IN THE NEXT PURCHASE")
        else:
            print("!!!! Enter Y or N !!!!")

   #adding data to sales.json
    index=len(sales)+1
           
    sales[index]={'Customer Name':customer_name , 'Product ID' : product_id , 'Product Name' : inventory[product_id]['Product Name'] ,'Quantity' : quantity , 'Total Amount' : total , 'Date/Time' : date_time} 
    sfd=json.dumps(sales)
    sd=open("SALES.json",'w')
    sd.write(sfd)
    sd.close()
        
else:
    print("!!!!!Enter a valid value !!!!!")
    
                   
        
        
    
          

    
    
    
    
